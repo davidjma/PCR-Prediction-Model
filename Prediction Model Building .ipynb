{
 "cells": [
  {
   "cell_type": "markdown",
   "metadata": {},
   "source": [
    "# Main Purpose: Find best ML/DL model and perform score analysis\n",
    "\n",
    "## Summary of Procedures:\n",
    "1. Identify input from working data by selecting the maximum claims for each patient in the year.\n",
    "2. Vectorizing input (NLP) to feed into the machine learning model\n",
    "3. Model training and Evaluation (Logistic Regression, MultinomialNB, Decision Trees, Xgboost, Neural networks)\n",
    "4. Selecting Optimal model (Neural Network) and scoring performance\n",
    "\n",
    "## Overview of Results:\n",
    "A deep learning approach was identified as the optimal model. The model was trained using 300 epochs with early stopping where if the validation loss does not improve over the next 10 epochs, the model stops training. The epoch with the smallest validation loss was used. Additionally, the model architecture was tuned and the highest accuracy architecture was selected and implemented. The accuracy on the test set was 61.9 % with a precision of 0.62, a recall of 0.62 and ROC curve area of 0.66.\n",
    "\n",
    "## Possible Improvements\n",
    "- Tune the deep learning model even further (Especially learning rate, batch size).\n",
    "- Demographic information was not considered due to vectorization of these data may confuse the model when adding for input. Thus, implementing demographic information (sex and ethnicity) after the attention layer should be performed.\n",
    "- Sample size was reduced to improve efficiency to patients with at least one year of data. Using the entire 65k sample size as an input could be processed. "
   ]
  },
  {
   "cell_type": "code",
   "execution_count": 48,
   "metadata": {
    "scrolled": false
   },
   "outputs": [
    {
     "data": {
      "text/plain": [
       "'C:\\\\Users\\\\david.ma\\\\Prediction Model'"
      ]
     },
     "execution_count": 48,
     "metadata": {},
     "output_type": "execute_result"
    }
   ],
   "source": [
    "#importing libraries\n",
    "import numpy as np\n",
    "import os\n",
    "import pandas as pd\n",
    "import ast\n",
    "from datetime import datetime\n",
    "import matplotlib.pyplot as plot\n",
    "from numpy import array\n",
    "\n",
    "import nltk\n",
    "import os\n",
    "import re\n",
    "import bz2\n",
    "import itertools\n",
    "import codecs\n",
    "\n",
    "import tensorflow as tf\n",
    "from tensorflow.keras.preprocessing.text import one_hot\n",
    "from tensorflow.keras.preprocessing.sequence import pad_sequences\n",
    "from tensorflow.keras.models import Sequential\n",
    "from tensorflow.keras.layers import Dense,LSTM,Dropout,Flatten,Conv1D,MaxPooling1D,Activation,BatchNormalization\n",
    "from tensorflow.keras.layers import Flatten\n",
    "from sklearn.model_selection import train_test_split\n",
    "from tensorflow.keras.callbacks import EarlyStopping, ModelCheckpoint,ReduceLROnPlateau\n",
    "import matplotlib.pyplot as plt\n",
    "import numpy as np\n",
    "from nltk.tokenize import word_tokenize\n",
    "\n",
    "from sklearn.model_selection import train_test_split\n",
    "from sklearn.linear_model import LinearRegression\n",
    "from sklearn.linear_model import LogisticRegression\n",
    "from sklearn.preprocessing import StandardScaler\n",
    "from sklearn.tree import DecisionTreeClassifier\n",
    "from sklearn.naive_bayes import MultinomialNB\n",
    "from itertools import chain\n",
    "from sklearn import tree\n",
    "from sklearn.feature_extraction.text import CountVectorizer\n",
    "from tensorflow.keras.models import Sequential\n",
    "from tensorflow.keras.layers import LSTM, Dense, Dropout, Flatten, Conv1D, MaxPooling1D, Activation,Bidirectional\n",
    "from xgboost import XGBClassifier\n",
    "from sklearn.metrics import accuracy_score\n",
    "from sklearn.ensemble import RandomForestRegressor\n",
    "from sklearn.ensemble import BaggingRegressor\n",
    "from sklearn.ensemble import RandomForestClassifier\n",
    "from sklearn.ensemble import BaggingClassifier\n",
    "from sklearn.tree import export_text\n",
    "from sklearn.metrics import ConfusionMatrixDisplay\n",
    "from sklearn.metrics import confusion_matrix, auc,classification_report, roc_curve,roc_auc_score,precision_recall_curve,brier_score_loss\n",
    "from matplotlib.pyplot import cm\n",
    "from sklearn.calibration import calibration_curve\n",
    "\n",
    "cwd=os.getcwd()\n",
    "cwd"
   ]
  },
  {
   "cell_type": "markdown",
   "metadata": {},
   "source": [
    "## Selection of input data for each patient from dataset"
   ]
  },
  {
   "cell_type": "code",
   "execution_count": 2,
   "metadata": {},
   "outputs": [],
   "source": [
    "#reading working data file\n",
    "file = pd.read_csv('finallabeleddata.csv',dtype = {'Code':np.str_})"
   ]
  },
  {
   "cell_type": "code",
   "execution_count": 3,
   "metadata": {},
   "outputs": [],
   "source": [
    "#evaluating an expression node\n",
    "file['service_date']= file['service_date'].apply(ast.literal_eval)\n",
    "file['codes']= file['codes'].apply(ast.literal_eval)\n",
    "file['InputData']= file['InputData'].apply(ast.literal_eval)"
   ]
  },
  {
   "cell_type": "code",
   "execution_count": 4,
   "metadata": {},
   "outputs": [],
   "source": [
    "#day computation function \n",
    "def date_converter(previous,after):\n",
    "    \"\"\"Retrieves two dates in form yyyy-mm-dd and computes the day difference between them\n",
    "\n",
    "    Input\n",
    "    --\n",
    "    previous: first date\n",
    "    after: second date\n",
    "    \n",
    "    Output\n",
    "    --\n",
    "    days: day difference between input\n",
    "    \n",
    "    \"\"\"\n",
    "    \n",
    "    first=datetime(int(previous[0:4]),int(previous[5:7]),int(previous[8:10]))\n",
    "    second=datetime(int(after[0:4]),int(after[5:7]),int(after[8:10]))\n",
    "    \n",
    "    return (second-first).days"
   ]
  },
  {
   "cell_type": "code",
   "execution_count": 5,
   "metadata": {},
   "outputs": [
    {
     "name": "stderr",
     "output_type": "stream",
     "text": [
      "<ipython-input-5-1c9744029f9a>:5: SettingWithCopyWarning: \n",
      "A value is trying to be set on a copy of a slice from a DataFrame\n",
      "\n",
      "See the caveats in the documentation: https://pandas.pydata.org/pandas-docs/stable/user_guide/indexing.html#returning-a-view-versus-a-copy\n",
      "  file['Input'][i]=list(file['InputData'][i].values())\n",
      "<ipython-input-5-1c9744029f9a>:6: SettingWithCopyWarning: \n",
      "A value is trying to be set on a copy of a slice from a DataFrame\n",
      "\n",
      "See the caveats in the documentation: https://pandas.pydata.org/pandas-docs/stable/user_guide/indexing.html#returning-a-view-versus-a-copy\n",
      "  file['Discharge-hosptialized'][i]=date_converter(list(file['InputData'][i].keys())[0],list(file['InputData'][i].keys())[-1])\n"
     ]
    }
   ],
   "source": [
    "#finding how long the patients are in the hospital\n",
    "file['Input']='CC'\n",
    "file['Discharge-hosptialized']='DD'\n",
    "for i in file.index:\n",
    "    file['Input'][i]=list(file['InputData'][i].values())\n",
    "    file['Discharge-hosptialized'][i]=date_converter(list(file['InputData'][i].keys())[0],list(file['InputData'][i].keys())[-1])"
   ]
  },
  {
   "cell_type": "code",
   "execution_count": 6,
   "metadata": {},
   "outputs": [],
   "source": [
    "#filtering to patients who have at least stayed in the hospital for 1+ years\n",
    "file['Discharge-hosptialized']=abs(file['Discharge-hosptialized'])\n",
    "work=file[file['Discharge-hosptialized']>365]"
   ]
  },
  {
   "cell_type": "code",
   "execution_count": 8,
   "metadata": {
    "scrolled": true
   },
   "outputs": [
    {
     "name": "stderr",
     "output_type": "stream",
     "text": [
      "<ipython-input-8-4698a3055b87>:2: SettingWithCopyWarning: \n",
      "A value is trying to be set on a copy of a slice from a DataFrame.\n",
      "Try using .loc[row_indexer,col_indexer] = value instead\n",
      "\n",
      "See the caveats in the documentation: https://pandas.pydata.org/pandas-docs/stable/user_guide/indexing.html#returning-a-view-versus-a-copy\n",
      "  work['workingData']='kk'\n",
      "<ipython-input-8-4698a3055b87>:11: SettingWithCopyWarning: \n",
      "A value is trying to be set on a copy of a slice from a DataFrame\n",
      "\n",
      "See the caveats in the documentation: https://pandas.pydata.org/pandas-docs/stable/user_guide/indexing.html#returning-a-view-versus-a-copy\n",
      "  work['workingData'][i]=free\n",
      "C:\\Anaconda\\lib\\site-packages\\IPython\\core\\interactiveshell.py:3437: SettingWithCopyWarning: \n",
      "A value is trying to be set on a copy of a slice from a DataFrame\n",
      "\n",
      "See the caveats in the documentation: https://pandas.pydata.org/pandas-docs/stable/user_guide/indexing.html#returning-a-view-versus-a-copy\n",
      "  exec(code_obj, self.user_global_ns, self.user_ns)\n"
     ]
    }
   ],
   "source": [
    "#Appending patient data until 1 year for usage\n",
    "work['workingData']='kk'\n",
    "\n",
    "for i in work.index:\n",
    "    lists=list(work['InputData'][i])\n",
    "    free=[]\n",
    "    for j in range(1,len(lists)):\n",
    "        if date_converter(lists[0],lists[j])<=365:\n",
    "            free.append(lists[j])\n",
    "        else:\n",
    "            work['workingData'][i]=free\n",
    "            break             "
   ]
  },
  {
   "cell_type": "code",
   "execution_count": 9,
   "metadata": {},
   "outputs": [
    {
     "name": "stderr",
     "output_type": "stream",
     "text": [
      "<ipython-input-9-bb052c0dd432>:1: SettingWithCopyWarning: \n",
      "A value is trying to be set on a copy of a slice from a DataFrame.\n",
      "Try using .loc[row_indexer,col_indexer] = value instead\n",
      "\n",
      "See the caveats in the documentation: https://pandas.pydata.org/pandas-docs/stable/user_guide/indexing.html#returning-a-view-versus-a-copy\n",
      "  work['MaxYear']='oo'\n",
      "<ipython-input-9-bb052c0dd432>:2: SettingWithCopyWarning: \n",
      "A value is trying to be set on a copy of a slice from a DataFrame.\n",
      "Try using .loc[row_indexer,col_indexer] = value instead\n",
      "\n",
      "See the caveats in the documentation: https://pandas.pydata.org/pandas-docs/stable/user_guide/indexing.html#returning-a-view-versus-a-copy\n",
      "  work['MaxYearLength']='ll'\n",
      "<ipython-input-9-bb052c0dd432>:50: SettingWithCopyWarning: \n",
      "A value is trying to be set on a copy of a slice from a DataFrame\n",
      "\n",
      "See the caveats in the documentation: https://pandas.pydata.org/pandas-docs/stable/user_guide/indexing.html#returning-a-view-versus-a-copy\n",
      "  work['MaxYear'][i]=final\n",
      "<ipython-input-9-bb052c0dd432>:51: SettingWithCopyWarning: \n",
      "A value is trying to be set on a copy of a slice from a DataFrame\n",
      "\n",
      "See the caveats in the documentation: https://pandas.pydata.org/pandas-docs/stable/user_guide/indexing.html#returning-a-view-versus-a-copy\n",
      "  work['MaxYearLength'][i]=len(final)\n"
     ]
    }
   ],
   "source": [
    "#defining amount of days for every year\n",
    "work['MaxYear']='oo'\n",
    "work['MaxYearLength']='ll'\n",
    "k=np.linspace(365,365,5)\n",
    "z=np.linspace(1,5,5)\n",
    "p=k*z\n",
    "\n",
    "#Finding the maximum year visits/events specfic to each patient\n",
    "for i in work.index:\n",
    "    date_list=list(work['InputData'][i])\n",
    "    f1=[]\n",
    "    f2=[]\n",
    "    f3=[]\n",
    "    f4=[]\n",
    "    f5=[]\n",
    "    total=[]\n",
    "    for j in range(len(date_list)):\n",
    "        if date_converter(date_list[0],date_list[j])<=int(p[0]) and date_list[j]<date_list[-1]:\n",
    "            f1.append(date_list[j])\n",
    "            \n",
    "        elif int(p[0])<date_converter(date_list[0],date_list[j])<=int(p[1]) and date_list[j]<=date_list[-1]:\n",
    "            f2.append(date_list[j])\n",
    "            \n",
    "        elif int(p[1])<date_converter(date_list[0],date_list[j])<=int(p[2]) and date_list[j]<=date_list[-1]:\n",
    "            f3.append(date_list[j])\n",
    "            \n",
    "        elif int(p[2])<date_converter(date_list[0],date_list[j])<=int(p[3]) and date_list[j]<=date_list[-1]:\n",
    "            f4.append(date_list[j])\n",
    "            \n",
    "        elif int(p[3])<date_converter(date_list[0],date_list[j])<=int(p[4]) and date_list[j]<=date_list[-1]:\n",
    "            f5.append(date_list[j])\n",
    "            \n",
    "    total=[f1,f2, f3, f4, f5]\n",
    "    total=[x for x in total if x]\n",
    "    \n",
    "    max_finder=[]\n",
    "    for h in total:\n",
    "        max_finder.append(len(h))\n",
    "        \n",
    "    maxi=max(max_finder)    \n",
    "    index=max_finder.index(maxi)    \n",
    "    maximum=[total[k] for k in range(len(total)) if k==index][0]\n",
    "    \n",
    "    final=[]\n",
    "    w=work['InputData'][i]\n",
    "    \n",
    "    for u in range(0,len(maximum)):\n",
    "        kk=w.get(maximum[u])\n",
    "        final.append(kk)\n",
    "        \n",
    "    work['MaxYear'][i]=final\n",
    "    work['MaxYearLength'][i]=len(final)\n",
    "              "
   ]
  },
  {
   "cell_type": "markdown",
   "metadata": {},
   "source": [
    "## Vectorizing Input "
   ]
  },
  {
   "cell_type": "code",
   "execution_count": 11,
   "metadata": {},
   "outputs": [],
   "source": [
    "#flattening all codes and joining it as a sentence (each code will be considered as one word)\n",
    "label=work['Y']\n",
    "xx=work['MaxYear'].apply(lambda x: list(chain(*[s.split('|') for s in x])))\n",
    "zz=xx.apply(lambda x: \" \".join(x))"
   ]
  },
  {
   "cell_type": "code",
   "execution_count": 12,
   "metadata": {},
   "outputs": [],
   "source": [
    "#appending all codes into an array\n",
    "empty=[]\n",
    "\n",
    "for i in zz:\n",
    "    empty.append(i)\n",
    "\n",
    "#tokenizing each code  \n",
    "all_words = []\n",
    "for j in empty:\n",
    "    tokenize_word = word_tokenize(j)\n",
    "    for word in tokenize_word:\n",
    "        all_words.append(word)"
   ]
  },
  {
   "cell_type": "code",
   "execution_count": 16,
   "metadata": {},
   "outputs": [],
   "source": [
    "#vectorizing each code and generating a matrix\n",
    "unique_words = set(all_words)\n",
    "vocab_length=len(unique_words)+2\n",
    "embedded_sentences = [one_hot(j, vocab_length) for j in empty]"
   ]
  },
  {
   "cell_type": "code",
   "execution_count": 18,
   "metadata": {},
   "outputs": [
    {
     "data": {
      "text/plain": [
       "(39501, 500)"
      ]
     },
     "execution_count": 18,
     "metadata": {},
     "output_type": "execute_result"
    }
   ],
   "source": [
    "#padding the matrix to make it a square to be feeded into the model\n",
    "word_count = lambda sentence: len(word_tokenize(sentence))\n",
    "longest_sentence = max(empty, key=word_count)\n",
    "length_long_sentence = len(word_tokenize(longest_sentence))\n",
    "padded_sentences = pad_sequences(embedded_sentences, 500, padding='pre') #500 here is a hyperparameter\n",
    "padded_sentences.shape"
   ]
  },
  {
   "cell_type": "code",
   "execution_count": 20,
   "metadata": {},
   "outputs": [],
   "source": [
    "#splitting the dataset\n",
    "label=work['Y']\n",
    "X_train,X_test,y_train,y_test=train_test_split(padded_sentences, label,test_size=0.2)\n",
    "y_train=array(y_train)\n",
    "y_test=array(y_test)"
   ]
  },
  {
   "cell_type": "markdown",
   "metadata": {},
   "source": [
    "## Model Training and Evaluation (Logistic Regression)"
   ]
  },
  {
   "cell_type": "code",
   "execution_count": 49,
   "metadata": {},
   "outputs": [
    {
     "data": {
      "text/plain": [
       "0.5379065941020124"
      ]
     },
     "execution_count": 49,
     "metadata": {},
     "output_type": "execute_result"
    }
   ],
   "source": [
    "#training and evaluating model\n",
    "clf = LogisticRegression()\n",
    "clf.fit(X_train, y_train)\n",
    "clf.score(X_test, y_test)"
   ]
  },
  {
   "cell_type": "markdown",
   "metadata": {},
   "source": [
    "## Model Training and Evaluation (Multinomial NB)"
   ]
  },
  {
   "cell_type": "code",
   "execution_count": 50,
   "metadata": {},
   "outputs": [
    {
     "data": {
      "text/plain": [
       "0.5543602075686622"
      ]
     },
     "execution_count": 50,
     "metadata": {},
     "output_type": "execute_result"
    }
   ],
   "source": [
    "#training and evaluating model\n",
    "clf = MultinomialNB()\n",
    "clf.fit(X_train, y_train)\n",
    "clf.score(X_test, y_test)"
   ]
  },
  {
   "cell_type": "markdown",
   "metadata": {},
   "source": [
    "## Model Training and Evaluation (Decision Tree)"
   ]
  },
  {
   "cell_type": "code",
   "execution_count": 51,
   "metadata": {},
   "outputs": [
    {
     "data": {
      "text/plain": [
       "0.5554993038855841"
      ]
     },
     "execution_count": 51,
     "metadata": {},
     "output_type": "execute_result"
    }
   ],
   "source": [
    "#training and evaluating model\n",
    "clf = DecisionTreeClassifier(max_depth = 5,random_state = 0)\n",
    "clf.fit(X_train, y_train)\n",
    "clf.score(X_test, y_test)"
   ]
  },
  {
   "cell_type": "markdown",
   "metadata": {},
   "source": [
    "## Model Training and Evaluation (XgBoost)"
   ]
  },
  {
   "cell_type": "code",
   "execution_count": 52,
   "metadata": {},
   "outputs": [
    {
     "name": "stderr",
     "output_type": "stream",
     "text": [
      "C:\\Anaconda\\lib\\site-packages\\xgboost\\sklearn.py:1146: UserWarning: The use of label encoder in XGBClassifier is deprecated and will be removed in a future release. To remove this warning, do the following: 1) Pass option use_label_encoder=False when constructing XGBClassifier object; and 2) Encode your labels (y) as integers starting with 0, i.e. 0, 1, 2, ..., [num_class - 1].\n",
      "  warnings.warn(label_encoder_deprecation_msg, UserWarning)\n"
     ]
    },
    {
     "name": "stdout",
     "output_type": "stream",
     "text": [
      "[10:05:06] WARNING: C:/Users/Administrator/workspace/xgboost-win64_release_1.4.0/src/learner.cc:1095: Starting in XGBoost 1.3.0, the default evaluation metric used with the objective 'binary:logistic' was changed from 'error' to 'logloss'. Explicitly set eval_metric if you'd like to restore the old behavior.\n"
     ]
    },
    {
     "data": {
      "text/plain": [
       "0.5339830401215037"
      ]
     },
     "execution_count": 52,
     "metadata": {},
     "output_type": "execute_result"
    }
   ],
   "source": [
    "#training and evaluating model\n",
    "model = XGBClassifier()\n",
    "model.fit(X_train, y_train)\n",
    "model.score(X_test, y_test)"
   ]
  },
  {
   "cell_type": "markdown",
   "metadata": {},
   "source": [
    "## Model Training and Evaluation (Deep Learning)"
   ]
  },
  {
   "cell_type": "code",
   "execution_count": 25,
   "metadata": {},
   "outputs": [],
   "source": [
    "#defining an Attention layer \n",
    "class Attention(tf.keras.layers.Layer):\n",
    "    \"\"\"\n",
    "    This class implements Bahdanau attention (https://arxiv.org/pdf/1409.0473.pdf).\n",
    "    There are three sets of weights introduced W_a, U_a, and V_a\n",
    "     \"\"\"\n",
    "\n",
    "    def __init__(self, sequence_length, output_dim, kernel_regularizer=None, **kwargs):\n",
    "        super(Attention, self).__init__(name=\"Attention\", **kwargs)\n",
    "\n",
    "        # Create a trainable weight variable for this layer.\n",
    "\n",
    "        self.output_dim = output_dim\n",
    "        self.sequence_length = sequence_length\n",
    "        self.W_a = self.add_weight(\n",
    "            name=\"W\",\n",
    "            shape=[output_dim, output_dim],\n",
    "            initializer=\"uniform\",\n",
    "            regularizer=kernel_regularizer\n",
    "        )\n",
    "        self.b_a = self.add_weight(\n",
    "            name=\"b\", shape=[output_dim], initializer=\"uniform\"\n",
    "        )\n",
    "        self.context_vecotor = self.add_weight(\n",
    "            name=\"context_vector\",\n",
    "            shape=[output_dim],\n",
    "            initializer=\"uniform\",\n",
    "            regularizer=kernel_regularizer\n",
    "        )\n",
    "\n",
    "    def call(self, hidden_state):\n",
    "        \"\"\"\n",
    "        @param hidden_state: [batch_size*num_sentences,sentence_length,d_model]\n",
    "        @return representation [batch_size*num_sentences,d_model]\n",
    "        \"\"\"\n",
    "\n",
    "        token_hidden_state_2 = tf.reshape(\n",
    "            hidden_state, shape=[-1, self.output_dim]\n",
    "        )\n",
    "        token_hidden_representation = tf.tanh(\n",
    "            tf.matmul(token_hidden_state_2, self.W_a) + self.b_a\n",
    "        )\n",
    "        token_hidden_representation = tf.reshape(\n",
    "            token_hidden_representation,\n",
    "            shape=[-1, self.sequence_length, self.output_dim],\n",
    "        )\n",
    "        token_hidden_state_context_similiarity = tf.multiply(\n",
    "            token_hidden_representation, self.context_vecotor\n",
    "        )\n",
    "        token_attention_logits = tf.reduce_sum(\n",
    "            token_hidden_state_context_similiarity, axis=2\n",
    "        )  # [batch_size,sentence_length]\n",
    "        token_p_attention = tf.nn.softmax(\n",
    "            token_attention_logits, name=\"token_attention\"\n",
    "        )  # [batch_size,sentence_length]\n",
    "        token_p_attention_expanded = tf.expand_dims(\n",
    "            token_p_attention, axis=2\n",
    "        )  # [batch_size,sentence_length,1]\n",
    "        representation = tf.multiply(\n",
    "            token_p_attention_expanded, hidden_state\n",
    "        )  # [batch_size,sentence_length, d_model]\n",
    "        representation = tf.reduce_sum(\n",
    "            input_tensor=representation, axis=1\n",
    "        )  # [batch_size, d_model]\n",
    "\n",
    "        return representation\n",
    "\n",
    "    def get_config(self):\n",
    "        config = super().get_config().copy()\n",
    "        config.update({\n",
    "            'sequence_length': self.sequence_length,\n",
    "            'output_dim': self.output_dim,\n",
    "        })\n",
    "        return config"
   ]
  },
  {
   "cell_type": "code",
   "execution_count": 38,
   "metadata": {},
   "outputs": [
    {
     "name": "stdout",
     "output_type": "stream",
     "text": [
      "Model: \"sequential_6\"\n",
      "_________________________________________________________________\n",
      "Layer (type)                 Output Shape              Param #   \n",
      "=================================================================\n",
      "embedding_6 (Embedding)      (None, 500, 200)          9799800   \n",
      "_________________________________________________________________\n",
      "bidirectional_6 (Bidirection (None, 500, 256)          336896    \n",
      "_________________________________________________________________\n",
      "Attention (Attention)        (None, 256)               66048     \n",
      "_________________________________________________________________\n",
      "dense_6 (Dense)              (None, 1)                 257       \n",
      "=================================================================\n",
      "Total params: 10,203,001\n",
      "Trainable params: 10,203,001\n",
      "Non-trainable params: 0\n",
      "_________________________________________________________________\n",
      "None\n"
     ]
    }
   ],
   "source": [
    "#defining the deep learning model (feel free to delete add)\n",
    "\n",
    "model = Sequential()\n",
    "model.add(tf.keras.layers.Embedding(vocab_length, 200, input_length=500, trainable=True)) \n",
    "#model.add(BatchNormalization())\n",
    "#model.add(Conv1D(filters=3, kernel_size=2,activation='relu'))\n",
    "#model.add(MaxPooling1D(pool_size=2))\n",
    "#model.add(Conv1D(filters=3, kernel_size=2,activation='sigmoid'))\n",
    "#model.add(MaxPooling1D(pool_size=2))\n",
    "#model.add(Dropout(0.2))\n",
    "#model.add(Conv1D(filters=3, kernel_size=2,activation='relu'))\n",
    "#model.add(MaxPooling1D(pool_size=2))\n",
    "model.add(Bidirectional(LSTM(128, return_sequences=True)))\n",
    "#model.add(Conv1D(filters=3, kernel_size=2,activation='sigmoid'))\n",
    "#model.add(MaxPooling1D(pool_size=2))\n",
    "#model.add(LSTM(128, return_sequences=True))\n",
    "model.add(Attention(500, 256))\n",
    "\n",
    "#model.add(Flatten())\n",
    "#model.add(LSTM(10, return_sequences=True))\n",
    "#model.add(Dense(1000, activation='relu'))\n",
    "#model.add(Dense(100, activation='sigmoid'))\n",
    "model.add(Dense(1, activation='sigmoid'))\n",
    "model.compile(optimizer=tf.keras.optimizers.Adam(learning_rate=0.0001), loss='binary_crossentropy', metrics=['acc'])\n",
    "print(model.summary())"
   ]
  },
  {
   "cell_type": "code",
   "execution_count": 39,
   "metadata": {
    "scrolled": true
   },
   "outputs": [
    {
     "name": "stdout",
     "output_type": "stream",
     "text": [
      "Epoch 1/300\n",
      "790/790 [==============================] - 866s 1s/step - loss: 0.6677 - acc: 0.5913 - val_loss: 0.6480 - val_acc: 0.6256\n",
      "\n",
      "Epoch 00001: val_loss improved from inf to 0.64802, saving model to best_model.h5\n",
      "Epoch 2/300\n",
      "790/790 [==============================] - 861s 1s/step - loss: 0.6303 - acc: 0.6501 - val_loss: 0.6543 - val_acc: 0.6288\n",
      "\n",
      "Epoch 00002: val_loss did not improve from 0.64802\n",
      "Epoch 3/300\n",
      "790/790 [==============================] - 850s 1s/step - loss: 0.6081 - acc: 0.6737 - val_loss: 0.6512 - val_acc: 0.6256\n",
      "\n",
      "Epoch 00003: val_loss did not improve from 0.64802\n",
      "Epoch 4/300\n",
      "790/790 [==============================] - 867s 1s/step - loss: 0.5763 - acc: 0.7044 - val_loss: 0.6631 - val_acc: 0.6233\n",
      "\n",
      "Epoch 00004: val_loss did not improve from 0.64802\n",
      "Epoch 5/300\n",
      "790/790 [==============================] - 844s 1s/step - loss: 0.5516 - acc: 0.7216 - val_loss: 0.6869 - val_acc: 0.6172\n",
      "\n",
      "Epoch 00005: val_loss did not improve from 0.64802\n",
      "Epoch 6/300\n",
      "790/790 [==============================] - 843s 1s/step - loss: 0.5226 - acc: 0.7442 - val_loss: 0.7124 - val_acc: 0.6011\n",
      "\n",
      "Epoch 00006: val_loss did not improve from 0.64802\n",
      "Epoch 7/300\n",
      "790/790 [==============================] - 847s 1s/step - loss: 0.4968 - acc: 0.7634 - val_loss: 0.8607 - val_acc: 0.5843\n",
      "\n",
      "Epoch 00007: val_loss did not improve from 0.64802\n",
      "Epoch 8/300\n",
      "790/790 [==============================] - 844s 1s/step - loss: 0.4789 - acc: 0.7744 - val_loss: 0.7587 - val_acc: 0.5948\n",
      "\n",
      "Epoch 00008: val_loss did not improve from 0.64802\n",
      "Epoch 9/300\n",
      "790/790 [==============================] - 846s 1s/step - loss: 0.4522 - acc: 0.7916 - val_loss: 0.8315 - val_acc: 0.5870\n",
      "\n",
      "Epoch 00009: val_loss did not improve from 0.64802\n",
      "Epoch 10/300\n",
      "790/790 [==============================] - 845s 1s/step - loss: 0.4351 - acc: 0.8017 - val_loss: 0.7928 - val_acc: 0.5908\n",
      "\n",
      "Epoch 00010: val_loss did not improve from 0.64802\n",
      "Epoch 11/300\n",
      "790/790 [==============================] - 846s 1s/step - loss: 0.4065 - acc: 0.8161 - val_loss: 0.9016 - val_acc: 0.5812\n",
      "\n",
      "Epoch 00011: val_loss did not improve from 0.64802\n",
      "Epoch 00011: early stopping\n",
      "Accuracy: 61.890900\n"
     ]
    }
   ],
   "source": [
    "#training the model with early stopping and using the saved best model to evaluate the test set\n",
    "batch_size=32\n",
    "earlyStopping = EarlyStopping(monitor='val_loss', patience=10,verbose=1)\n",
    "mcp_save = ModelCheckpoint('best_model.h5', save_best_only=True, verbose=1,monitor='val_loss')\n",
    "history=model.fit(X_train, y_train, batch_size=batch_size, epochs=300, verbose=1,shuffle=True, validation_split=0.2,callbacks=[earlyStopping, mcp_save])\n",
    "best=model.load_weights(filepath = 'best_model.h5')\n",
    "loss, accuracy = model.evaluate(X_test, y_test, verbose=0)\n",
    "print('Accuracy: %f' % (accuracy*100))"
   ]
  },
  {
   "cell_type": "markdown",
   "metadata": {},
   "source": [
    "## Using scoring indicators to assess model performance"
   ]
  },
  {
   "cell_type": "code",
   "execution_count": 40,
   "metadata": {},
   "outputs": [
    {
     "data": {
      "image/png": "[encoded data removed]",
      "text/plain": [
       "<Figure size 432x288 with 1 Axes>"
      ]
     },
     "metadata": {
      "needs_background": "light"
     },
     "output_type": "display_data"
    }
   ],
   "source": [
    "#plotting learning curve\n",
    "plt.plot(history.history['loss'],label='Training Loss')\n",
    "plt.plot(history.history['val_loss'],label='Validation Loss')\n",
    "plt.title('Learning Curve')\n",
    "plt.ylabel('Loss')\n",
    "plt.xlabel('epoch')\n",
    "plt.legend(loc='upper right')\n",
    "plt.show()"
   ]
  },
  {
   "cell_type": "code",
   "execution_count": 43,
   "metadata": {},
   "outputs": [
    {
     "data": {
      "image/png": "[encoded data removed]",
      "text/plain": [
       "<Figure size 432x288 with 2 Axes>"
      ]
     },
     "metadata": {
      "needs_background": "light"
     },
     "output_type": "display_data"
    }
   ],
   "source": [
    "#generating confusion matrix\n",
    "predictions = model.predict(X_test)\n",
    "new=predictions.round()\n",
    "new=np.squeeze(new)\n",
    "matrix = confusion_matrix(y_test, new)\n",
    "\n",
    "disp = ConfusionMatrixDisplay(confusion_matrix=matrix)\n",
    "disp.plot(cmap=plt.cm.Blues)\n",
    "plt.title('Confusion Matrix')\n",
    "plt.show()"
   ]
  },
  {
   "cell_type": "code",
   "execution_count": 44,
   "metadata": {},
   "outputs": [
    {
     "name": "stdout",
     "output_type": "stream",
     "text": [
      "              precision    recall  f1-score   support\n",
      "\n",
      "           0       0.61      0.57      0.59      3803\n",
      "           1       0.63      0.66      0.64      4098\n",
      "\n",
      "    accuracy                           0.62      7901\n",
      "   macro avg       0.62      0.62      0.62      7901\n",
      "weighted avg       0.62      0.62      0.62      7901\n",
      "\n"
     ]
    }
   ],
   "source": [
    "#generating classification report\n",
    "print(classification_report(y_test,new))"
   ]
  },
  {
   "cell_type": "code",
   "execution_count": 45,
   "metadata": {},
   "outputs": [
    {
     "data": {
      "image/png": "[encoded data removed]",
      "text/plain": [
       "<Figure size 432x288 with 1 Axes>"
      ]
     },
     "metadata": {
      "needs_background": "light"
     },
     "output_type": "display_data"
    }
   ],
   "source": [
    "# Generating and plotting ROC curve\n",
    "pred=np.squeeze(predictions)\n",
    "precision,recall,thresholds=precision_recall_curve(y_test,predictions)\n",
    "fpr, tpr, thresholds = roc_curve(y_test, pred)\n",
    "roc_auc=roc_auc_score(y_test, pred)\n",
    "\n",
    "plt.plot(fpr, tpr, label='ROC curve (area = %0.3f)' % roc_auc)\n",
    "plt.plot([0, 1], [0, 1], 'k--')  \n",
    "plt.xlim([0.0, 1.0])\n",
    "plt.ylim([0.0, 1.0])\n",
    "plt.xlabel('False Positive Rate or (1 - Specifity)')\n",
    "plt.ylabel('True Positive Rate or (Sensitivity)')\n",
    "plt.title('Receiver Operating Characteristic')\n",
    "plt.legend(loc=\"lower right\")\n",
    "plt.show()"
   ]
  },
  {
   "cell_type": "code",
   "execution_count": null,
   "metadata": {},
   "outputs": [],
   "source": []
  }
 ],
 "metadata": {
  "kernelspec": {
   "display_name": "Python 3",
   "language": "python",
   "name": "python3"
  },
  "language_info": {
   "codemirror_mode": {
    "name": "ipython",
    "version": 3
   },
   "file_extension": ".py",
   "mimetype": "text/x-python",
   "name": "python",
   "nbconvert_exporter": "python",
   "pygments_lexer": "ipython3",
   "version": "3.8.5"
  }
 },
 "nbformat": 4,
 "nbformat_minor": 5
}
